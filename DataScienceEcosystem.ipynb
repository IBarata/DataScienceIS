{
 "cells": [
  {
   "cell_type": "markdown",
   "id": "ee3f988f-d805-4e70-82af-c9dc651a5ab6",
   "metadata": {},
   "source": [
    "###### Exercise 2 - Create markdown cell with title of the notebook"
   ]
  },
  {
   "cell_type": "markdown",
   "id": "d23f8033-1e1f-4049-91cf-5708c24149f8",
   "metadata": {},
   "source": [
    "# Data Science Tools and Ecosystem"
   ]
  },
  {
   "cell_type": "code",
   "execution_count": null,
   "id": "1301035a-8cc8-4be2-b427-d2d3d3ccedf3",
   "metadata": {},
   "outputs": [],
   "source": []
  },
  {
   "cell_type": "markdown",
   "id": "d9a7046a-d7b5-4c66-a1d0-4e2af4903632",
   "metadata": {},
   "source": [
    "###### Exercise 3 - Create a markdown cell for an introduction"
   ]
  },
  {
   "cell_type": "markdown",
   "id": "8f89de3b-dd86-4ce3-90e8-e32e917fc009",
   "metadata": {},
   "source": [
    "In this notebook, Data Science Tools and Ecosystem are summarized."
   ]
  },
  {
   "cell_type": "code",
   "execution_count": null,
   "id": "620bc73c-3f04-4edb-955d-d81722895ae1",
   "metadata": {},
   "outputs": [],
   "source": []
  },
  {
   "cell_type": "markdown",
   "id": "a6632829-8a47-4685-8590-22d29d608da1",
   "metadata": {},
   "source": [
    "###### Exercise 10 - Insert a markdown cell to list Objectives"
   ]
  },
  {
   "cell_type": "markdown",
   "id": "09b2c2a6-d5bf-429e-8667-2404751ce26f",
   "metadata": {},
   "source": [
    "**Objectives:**\n",
    "- List popular languages for Data Science\n",
    "- List commonly used libraries used by Data Scientists\n",
    "- List development environment open source tools used in Data Science."
   ]
  },
  {
   "cell_type": "code",
   "execution_count": null,
   "id": "48b8da58-e7fa-43ec-a9e2-a1ba52682e0f",
   "metadata": {},
   "outputs": [],
   "source": []
  },
  {
   "cell_type": "markdown",
   "id": "0a7fe6df-6ba9-4c07-a424-2b32163bf807",
   "metadata": {},
   "source": [
    "###### Exercise 4 - Create a markdown cell to list data science languages"
   ]
  },
  {
   "cell_type": "markdown",
   "id": "09e98421-b9e8-4113-bf01-2cb870cc3c66",
   "metadata": {},
   "source": [
    "Some of the popular languages that Data Scientists use are:\n",
    "1. Python\n",
    "2. R\n",
    "3. SQL\n",
    "4. Java\n",
    "5. Scala\n",
    "6. C++\n",
    "7. JavaScript\n",
    "8. Julia. "
   ]
  },
  {
   "cell_type": "code",
   "execution_count": null,
   "id": "f63fcd7e-654c-40fe-98fb-feba35640ba4",
   "metadata": {},
   "outputs": [],
   "source": []
  },
  {
   "cell_type": "markdown",
   "id": "4aff2983-e45f-4c3f-99d4-7dd0ff80f97d",
   "metadata": {},
   "source": [
    "###### Exercise 5 - Create a markdown cell to list data science libraries"
   ]
  },
  {
   "cell_type": "markdown",
   "id": "c27b8da2-a719-47eb-a625-2ea3652354ed",
   "metadata": {},
   "source": [
    "Some of the commonly used libraries used by Data Scientists include:\n",
    "1. Pandas\n",
    "2. NumPy\n",
    "3. SciPy\n",
    "4. Matplotlib\n",
    "5. Seaborn\n",
    "6. Scikit-learn\n",
    "7. Keras\n",
    "8. TensorFlow\n",
    "9. PyTorch"
   ]
  },
  {
   "cell_type": "code",
   "execution_count": null,
   "id": "748888bb-8f3a-4102-a4e9-89f9524d73d0",
   "metadata": {},
   "outputs": [],
   "source": []
  },
  {
   "cell_type": "markdown",
   "id": "9d186ae9-6e6b-4b42-a0b2-c1c3839dc5fb",
   "metadata": {},
   "source": [
    "###### Exercise 6 - Create a markdown cell with a table of Data Science tools"
   ]
  },
  {
   "cell_type": "markdown",
   "id": "8d9572cd-a3dc-4b02-9d41-6c42faca9225",
   "metadata": {},
   "source": [
    "| Data Science Tools |\n",
    "|------------------- |\n",
    "| Jupyter Notebook |\n",
    "| RStudio |\n",
    "| Apache Spark |"
   ]
  },
  {
   "cell_type": "code",
   "execution_count": null,
   "id": "d850f782-dad6-4d18-9a9a-86b7707ca23b",
   "metadata": {},
   "outputs": [],
   "source": []
  },
  {
   "cell_type": "markdown",
   "id": "e957d114-9f8d-4c19-9017-a5f839a1ec1f",
   "metadata": {},
   "source": [
    "###### Exercise 7 - Create a markdown cell introducing arithmetic expression examples"
   ]
  },
  {
   "cell_type": "markdown",
   "id": "f357648e-a5f3-47f1-891f-ad009251589e",
   "metadata": {},
   "source": [
    "### Below are a few examples of evaluating arithmetic expressions in Python."
   ]
  },
  {
   "cell_type": "code",
   "execution_count": null,
   "id": "02a5f8b0-3495-46ad-bc46-cc4e842fb530",
   "metadata": {},
   "outputs": [],
   "source": []
  },
  {
   "cell_type": "markdown",
   "id": "2903ff80-2b14-410f-838e-32a364ea6128",
   "metadata": {},
   "source": [
    "###### Exercise 8 - Create a code cell to multiply and add numbers"
   ]
  },
  {
   "cell_type": "code",
   "execution_count": 1,
   "id": "a2d97ac2-73a1-4b4e-8c71-0f7761461996",
   "metadata": {
    "tags": []
   },
   "outputs": [
    {
     "data": {
      "text/plain": [
       "17"
      ]
     },
     "execution_count": 1,
     "metadata": {},
     "output_type": "execute_result"
    }
   ],
   "source": [
    "# This a simple arithmetic expression to mutiply then add integers.\n",
    "(3*4)+5"
   ]
  },
  {
   "cell_type": "code",
   "execution_count": null,
   "id": "2c3bbaf4-0bfe-4baa-a77b-193152d9a2a6",
   "metadata": {},
   "outputs": [],
   "source": []
  },
  {
   "cell_type": "markdown",
   "id": "fb75b5e5-ce41-4172-adc6-4c0411c65690",
   "metadata": {},
   "source": [
    "###### Exercise 9 - Create a code cell to convert minutes to hours"
   ]
  },
  {
   "cell_type": "code",
   "execution_count": 2,
   "id": "9cf4e380-d911-4956-b74f-43730379e332",
   "metadata": {
    "tags": []
   },
   "outputs": [
    {
     "data": {
      "text/plain": [
       "3.3333333333333335"
      ]
     },
     "execution_count": 2,
     "metadata": {},
     "output_type": "execute_result"
    }
   ],
   "source": [
    "# This will convert 200 minutes to hours by diving by 60.\n",
    "200 / 60"
   ]
  },
  {
   "cell_type": "code",
   "execution_count": null,
   "id": "336a3f76-0b19-4c04-943c-3244ddc54006",
   "metadata": {},
   "outputs": [],
   "source": []
  },
  {
   "cell_type": "markdown",
   "id": "709d3f8e-1475-4aee-9a0c-4a063aedbe92",
   "metadata": {},
   "source": [
    "###### Exercise 11 - Create a markdown cell to indicate the Author's name"
   ]
  },
  {
   "cell_type": "markdown",
   "id": "f654eed6-d265-490d-9d7c-a39a703a0558",
   "metadata": {
    "tags": []
   },
   "source": [
    "## Author\n",
    "Inga Silva"
   ]
  },
  {
   "cell_type": "code",
   "execution_count": null,
   "id": "53a4ea49-7143-4200-9a99-857df6417747",
   "metadata": {},
   "outputs": [],
   "source": []
  }
 ],
 "metadata": {
  "kernelspec": {
   "display_name": "Python 3 (ipykernel)",
   "language": "python",
   "name": "python3"
  },
  "language_info": {
   "codemirror_mode": {
    "name": "ipython",
    "version": 3
   },
   "file_extension": ".py",
   "mimetype": "text/x-python",
   "name": "python",
   "nbconvert_exporter": "python",
   "pygments_lexer": "ipython3",
   "version": "3.11.4"
  }
 },
 "nbformat": 4,
 "nbformat_minor": 5
}
